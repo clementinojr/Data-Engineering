{
 "cells": [
  {
   "cell_type": "markdown",
   "id": "460ab40e",
   "metadata": {},
   "source": [
    "# Teste Python Data Analytics"
   ]
  },
  {
   "cell_type": "markdown",
   "id": "92bc9665",
   "metadata": {
    "tags": []
   },
   "source": [
    "#### Descrição:\n",
    "\n",
    "Nós temos diariamente uma série de desafios em leituras de resultados de APIs. Considerando o arquivo export_deals.txt monte a estrutura de dados como se fosse preparar tabelas para montar um modelo de dados para um relatório em Power Bi.\n",
    "\n",
    "Exporte os dados no formato csv e também no formato parquet\n",
    "\n",
    "#### Observações:\n",
    "\n",
    "1 - Pode utilizar as bibliotecas que achar conveniente. Desde que seja possível instalação via pip.\n",
    "\n",
    "2 - Importante comentar cada step de código daqui para baixo.\n",
    "\n",
    "3 - O encoding do arquivo export_deals.txt é UTF-8"
   ]
  },
  {
   "cell_type": "markdown",
   "id": "6e31e4c9-e351-4c9b-a1ce-dfabcf329136",
   "metadata": {},
   "source": [
    "# Candidato José Maria Clementino Junior"
   ]
  },
  {
   "cell_type": "markdown",
   "id": "60013e6c-7734-4511-8743-6d9a34779ab5",
   "metadata": {},
   "source": [
    "# Lista de bibliotecas utilizadas para o teste"
   ]
  },
  {
   "cell_type": "code",
   "execution_count": 1,
   "id": "44c405f7-82b7-467c-906f-ee1a8aaf2c8f",
   "metadata": {},
   "outputs": [
    {
     "name": "stdout",
     "output_type": "stream",
     "text": [
      "Requirement already satisfied: fastparquet in c:\\users\\junin\\anaconda3\\lib\\site-packages (0.8.0)\n",
      "Requirement already satisfied: pandas>=1.1.0 in c:\\users\\junin\\anaconda3\\lib\\site-packages (from fastparquet) (1.3.4)\n",
      "Requirement already satisfied: numpy>=1.18 in c:\\users\\junin\\anaconda3\\lib\\site-packages (from fastparquet) (1.20.3)\n",
      "Requirement already satisfied: cramjam>=2.3.0 in c:\\users\\junin\\anaconda3\\lib\\site-packages (from fastparquet) (2.5.0)\n",
      "Requirement already satisfied: fsspec in c:\\users\\junin\\anaconda3\\lib\\site-packages (from fastparquet) (2021.10.1)\n",
      "Requirement already satisfied: python-dateutil>=2.7.3 in c:\\users\\junin\\anaconda3\\lib\\site-packages (from pandas>=1.1.0->fastparquet) (2.8.2)\n",
      "Requirement already satisfied: pytz>=2017.3 in c:\\users\\junin\\anaconda3\\lib\\site-packages (from pandas>=1.1.0->fastparquet) (2021.3)\n",
      "Requirement already satisfied: six>=1.5 in c:\\users\\junin\\anaconda3\\lib\\site-packages (from python-dateutil>=2.7.3->pandas>=1.1.0->fastparquet) (1.16.0)\n"
     ]
    }
   ],
   "source": [
    "import pandas as pd\n",
    "import json\n",
    "import ast\n",
    "!pip install fastparquet"
   ]
  },
  {
   "cell_type": "markdown",
   "id": "6a0c588f-6634-484d-b4d8-17d078e79e61",
   "metadata": {},
   "source": [
    "# Leitura do arquivo TXT - Utilizando literal_eval para transformações de string para objetos"
   ]
  },
  {
   "cell_type": "code",
   "execution_count": 2,
   "id": "3185cef2-f0ee-4093-afcb-8f52a5d8499f",
   "metadata": {},
   "outputs": [],
   "source": [
    "import ast\n",
    "  \n",
    "\n",
    "with open('export_deals.txt',encoding=\"utf-8\") as f:\n",
    "    data = f.read()\n",
    "\n",
    "d = ast.literal_eval(data)\n",
    "  "
   ]
  }
 ],
 "metadata": {
  "kernelspec": {
   "display_name": "base",
   "language": "python",
   "name": "base"
  },
  "language_info": {
   "codemirror_mode": {
    "name": "ipython",
    "version": 3
   },
   "file_extension": ".py",
   "mimetype": "text/x-python",
   "name": "python",
   "nbconvert_exporter": "python",
   "pygments_lexer": "ipython3",
   "version": "3.9.7"
  }
 },
 "nbformat": 4,
 "nbformat_minor": 5
}
