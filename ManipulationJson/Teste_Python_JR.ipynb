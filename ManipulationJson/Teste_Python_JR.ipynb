{
 "cells": [
  {
   "cell_type": "code",
   "execution_count": 1,
   "id": "44c405f7-82b7-467c-906f-ee1a8aaf2c8f",
   "metadata": {},
   "outputs": [
    {
     "name": "stdout",
     "output_type": "stream",
     "text": [
      "Requirement already satisfied: fastparquet in c:\\users\\junin\\anaconda3\\lib\\site-packages (0.8.0)\n",
      "Requirement already satisfied: cramjam>=2.3.0 in c:\\users\\junin\\anaconda3\\lib\\site-packages (from fastparquet) (2.5.0)\n",
      "Requirement already satisfied: pandas>=1.1.0 in c:\\users\\junin\\anaconda3\\lib\\site-packages (from fastparquet) (1.3.4)\n",
      "Requirement already satisfied: numpy>=1.18 in c:\\users\\junin\\anaconda3\\lib\\site-packages (from fastparquet) (1.20.3)\n",
      "Requirement already satisfied: fsspec in c:\\users\\junin\\anaconda3\\lib\\site-packages (from fastparquet) (2021.10.1)\n",
      "Requirement already satisfied: pytz>=2017.3 in c:\\users\\junin\\anaconda3\\lib\\site-packages (from pandas>=1.1.0->fastparquet) (2021.3)\n",
      "Requirement already satisfied: python-dateutil>=2.7.3 in c:\\users\\junin\\anaconda3\\lib\\site-packages (from pandas>=1.1.0->fastparquet) (2.8.2)\n",
      "Requirement already satisfied: six>=1.5 in c:\\users\\junin\\anaconda3\\lib\\site-packages (from python-dateutil>=2.7.3->pandas>=1.1.0->fastparquet) (1.16.0)\n"
     ]
    },
    {
     "name": "stderr",
     "output_type": "stream",
     "text": [
      "WARNING: Ignoring invalid distribution -atplotlib (c:\\users\\junin\\anaconda3\\lib\\site-packages)\n",
      "WARNING: Ignoring invalid distribution -atplotlib (c:\\users\\junin\\anaconda3\\lib\\site-packages)\n",
      "WARNING: Ignoring invalid distribution -atplotlib (c:\\users\\junin\\anaconda3\\lib\\site-packages)\n",
      "WARNING: Ignoring invalid distribution -atplotlib (c:\\users\\junin\\anaconda3\\lib\\site-packages)\n",
      "WARNING: Ignoring invalid distribution -atplotlib (c:\\users\\junin\\anaconda3\\lib\\site-packages)\n",
      "WARNING: Ignoring invalid distribution -atplotlib (c:\\users\\junin\\anaconda3\\lib\\site-packages)\n"
     ]
    }
   ],
   "source": [
    "import pandas as pd\n",
    "import json\n",
    "import ast\n",
    "!pip install fastparquet"
   ]
  },
  {
   "cell_type": "markdown",
   "id": "6a0c588f-6634-484d-b4d8-17d078e79e61",
   "metadata": {},
   "source": [
    "# Leitura do arquivo TXT - Utilizando literal_eval para transformações de string para objetos"
   ]
  },
  {
   "cell_type": "code",
   "execution_count": 2,
   "id": "3185cef2-f0ee-4093-afcb-8f52a5d8499f",
   "metadata": {},
   "outputs": [],
   "source": [
    "import ast\n",
    "  \n",
    "\n",
    "with open('export_deals.txt',encoding=\"utf-8\") as f:\n",
    "    data = f.read()\n",
    "\n",
    "d = ast.literal_eval(data)\n",
    "  "
   ]
  },
  {
   "cell_type": "markdown",
   "id": "94f37dd8",
   "metadata": {},
   "source": [
    "# Função para organização das hierarquias da estrutura dos dados "
   ]
  },
  {
   "cell_type": "markdown",
   "id": "88f7a552",
   "metadata": {},
   "source": [
    "A função conct_dict, foi utilizada para definir a hierarquia dos dados considerando a estrutura de dados no formato dicionário: pois a estrutura correspondente a um registro era representado por um dicionário. No entanto, os dicionários contiam outras estruturas de dados como: dicinários e listas. Está função tem como objetivo extrair os valores destas estruturas aninhadas e padronizar em um dado comum, para isso foi utilizado o nome da chave externa concatenado com nome da chave do interna do dicionário. Com a padronização herdada da modelagem de banco de dados.\n",
    "\n",
    "Por exemplo: A a estrutura:\n",
    "{'id': 5373, 'creator_user_id': {'id': 4571337, 'name': 'Bruno Martins', 'email': 'bruno.martins@hsb.com.br'...\n",
    "Foi transformado para:\n",
    "{id': 5373, 'creator_user_id_id': 4571337, 'creator_user_id_name': 'Bruno Martins', 'creator_user_id_email': 'bruno.martins@hsb.com.br' .."
   ]
  },
  {
   "cell_type": "code",
   "execution_count": 4,
   "id": "176916cd",
   "metadata": {},
   "outputs": [],
   "source": [
    "def conct_dict (i,dict,name):\n",
    "    list_name_key =list(d[i][name].keys())\n",
    "    val_conc = []\n",
    "    list_values = []\n",
    "    for key_in_list in list_name_key:\n",
    "        val_conc.append(f\"{name}_{key_in_list}\")\n",
    "    list_values = list(d[i][name].values())\n",
    "    res = {val_conc[i]: list_values[i] for i in range(len(val_conc))}\n",
    "    return res \n"
   ]
  },
  {
   "cell_type": "markdown",
   "id": "0193a038",
   "metadata": {},
   "source": [
    "Para resolução das listas aninhadas contidas nos dicionários a função abaixo foi utilizada para extração dos dados, neste sample de dados foi observado que as listas contiam dicionários e a extração também foi realizada. "
   ]
  },
  {
   "cell_type": "code",
   "execution_count": 5,
   "id": "11208bb8",
   "metadata": {},
   "outputs": [],
   "source": [
    "def list_conct_dict (i,dict,name,pos):\n",
    "    list_name_key =list(d[i][name][pos].keys())\n",
    "    val_conc = []\n",
    "    list_values = []\n",
    "    for key_in_list in list_name_key:\n",
    "        val_conc.append(f\"{name}_{key_in_list}\")\n",
    "    list_values = list(d[i][name][pos].values())\n",
    "    res = {val_conc[i]: list_values[i] for i in range(len(val_conc))}\n",
    "    return res "
   ]
  },
  {
   "cell_type": "markdown",
   "id": "7e48406f",
   "metadata": {},
   "source": [
    "# Tratamento dos dicionários mais internos"
   ]
  },
  {
   "cell_type": "markdown",
   "id": "08e79b86",
   "metadata": {},
   "source": [
    "Para extrair os dados foi necessário percorrer cada amostra do conjunto, para verificação da extração foi verificado o tipo de cada chave do dicionário. E se o tipo de dados da chave correspondese a um outro dicionário é realizado a extração dos valores do dicionário mais interno."
   ]
  },
  {
   "cell_type": "code",
   "execution_count": 6,
   "id": "f06ba4b7",
   "metadata": {},
   "outputs": [
    {
     "name": "stderr",
     "output_type": "stream",
     "text": [
      "100%|██████████| 1000/1000 [00:00<00:00, 25708.90it/s]\n"
     ]
    }
   ],
   "source": [
    "#Tratando dicionário\n",
    "from tqdm import tqdm\n",
    "lista_aux_del = []\n",
    "for i in tqdm(range(len(d)),total=len(d)):\n",
    "\n",
    "    for j in d[i].keys():\n",
    "        new_values_key = {} \n",
    "        if type(d[i][j]) is dict:\n",
    "            new_values_key = conct_dict(i, d[i][j], j)\n",
    "            d[i][j] = new_values_key\n",
    "            lista_aux_del.append(j)"
   ]
  },
  {
   "cell_type": "markdown",
   "id": "cd13eb6d",
   "metadata": {},
   "source": []
  }
 ],
 "metadata": {
  "kernelspec": {
   "display_name": "base",
   "language": "python",
   "name": "base"
  },
  "language_info": {
   "codemirror_mode": {
    "name": "ipython",
    "version": 3
   },
   "file_extension": ".py",
   "mimetype": "text/x-python",
   "name": "python",
   "nbconvert_exporter": "python",
   "pygments_lexer": "ipython3",
   "version": "3.9.7"
  }
 },
 "nbformat": 4,
 "nbformat_minor": 5
}
